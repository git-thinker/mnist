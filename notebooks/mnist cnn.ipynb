{
 "cells": [
  {
   "cell_type": "code",
   "execution_count": 1,
   "metadata": {},
   "outputs": [],
   "source": [
    "import tqdm\n",
    "import torch\n",
    "import numpy as np\n",
    "import pickle\n",
    "import random\n",
    "import matplotlib.pyplot as plt"
   ]
  },
  {
   "cell_type": "code",
   "execution_count": 2,
   "metadata": {},
   "outputs": [],
   "source": [
    "def setup_seed(seed):\n",
    "    torch.manual_seed(seed)\n",
    "    torch.cuda.manual_seed_all(seed)\n",
    "    np.random.seed(seed)\n",
    "    random.seed(seed)\n",
    "    torch.backends.cudnn.deterministic = True\n",
    "setup_seed(56274635)"
   ]
  },
  {
   "cell_type": "code",
   "execution_count": 3,
   "metadata": {},
   "outputs": [],
   "source": [
    "epoches = 50\n",
    "batch_size = 512\n",
    "lr = 0.0001\n",
    "device = torch.device(\"cuda\" if torch.cuda.is_available() else \"cpu\")"
   ]
  },
  {
   "cell_type": "code",
   "execution_count": 4,
   "metadata": {},
   "outputs": [],
   "source": [
    "mnist_path = 'C:\\MyWorks\\Git Repository\\Remote Repo\\cnn\\mnist.pkl'\n",
    "dataset = pickle.load(open(mnist_path,'rb'),encoding='iso-8859-1')\n",
    "\n",
    "class MNISTDataset(torch.utils.data.Dataset):\n",
    "    def __init__(self, data: tuple):\n",
    "        self.x_raw, self.y_raw = data\n",
    "        self.x_raw = torch.from_numpy(self.x_raw).to(device)\n",
    "        self.y_raw = torch.from_numpy(self.y_raw).to(device)\n",
    "\n",
    "    def __len__(self):\n",
    "        return len(self.x_raw)\n",
    "\n",
    "    def __getitem__(self, idx):\n",
    "        # return self.x_raw[idx].reshape((1, 28, 28)), torch.eye(10)[self.y_raw[idx]]\n",
    "        return self.x_raw[idx].reshape((1, 28, 28)), self.y_raw[idx]\n",
    "\n",
    "\n",
    "train_dataset = MNISTDataset(data=dataset[0])\n",
    "valid_dataset = MNISTDataset(data=dataset[1])\n",
    "test_dataset = MNISTDataset(data=dataset[2])\n",
    "\n",
    "train_loader = torch.utils.data.DataLoader(dataset=train_dataset, batch_size=batch_size, shuffle=True, num_workers=0)\n",
    "valid_loader = torch.utils.data.DataLoader(dataset=valid_dataset, batch_size=batch_size, shuffle=True, num_workers=0)\n",
    "test_loader = torch.utils.data.DataLoader(dataset=test_dataset, batch_size=batch_size, shuffle=True, num_workers=0)\n"
   ]
  },
  {
   "cell_type": "code",
   "execution_count": 5,
   "metadata": {},
   "outputs": [],
   "source": [
    "class ConvNet(torch.nn.Module):\n",
    "    def __init__(self):\n",
    "        super(ConvNet, self).__init__()\n",
    "        self.Sequence = torch.nn.Sequential(\n",
    "            # (1, 28, 28)\n",
    "            torch.nn.Conv2d(in_channels=1, out_channels=32, kernel_size=5, stride=1, padding=2),\n",
    "\n",
    "            # (32, 28, 28)\n",
    "            torch.nn.MaxPool2d(kernel_size=2, stride=2),\n",
    "\n",
    "            # (32, 14, 14)\n",
    "            torch.nn.ReLU(),\n",
    "\n",
    "            # (32, 14, 14)\n",
    "            torch.nn.Conv2d(in_channels=32, out_channels=64, kernel_size=5, stride=1, padding=2),\n",
    "\n",
    "            # (64, 14, 14)\n",
    "            torch.nn.MaxPool2d(kernel_size=2, stride=2),\n",
    "\n",
    "            # (64, 7, 7)\n",
    "            torch.nn.ReLU(),\n",
    "\n",
    "            # (64, 7, 7)\n",
    "            torch.nn.Flatten(start_dim=1),\n",
    "\n",
    "            # (64 * 7 * 7 = 3136)\n",
    "            torch.nn.Linear(in_features=3136, out_features=1024),\n",
    "\n",
    "            # (1024, )\n",
    "            torch.nn.ReLU(),\n",
    "\n",
    "            # (1024, )\n",
    "            torch.nn.Linear(in_features=1024, out_features=10),\n",
    "\n",
    "            # (10, )\n",
    "            torch.nn.Softmax(),\n",
    "        )\n",
    "        \n",
    "\n",
    "    def forward(self, x):\n",
    "        return self.Sequence(x)\n",
    "\n",
    "convnet = ConvNet().to(device)\n",
    "convnet_optimiser = torch.optim.Adam(convnet.parameters(), lr=lr)\n",
    "convnet_loss_func = torch.nn.CrossEntropyLoss()\n",
    "\n",
    "train_loss_list = []\n",
    "valid_loss_list = []"
   ]
  },
  {
   "cell_type": "code",
   "execution_count": 6,
   "metadata": {},
   "outputs": [
    {
     "name": "stdout",
     "output_type": "stream",
     "text": [
      "Using matplotlib backend: TkAgg\n"
     ]
    }
   ],
   "source": [
    "%matplotlib auto"
   ]
  },
  {
   "cell_type": "code",
   "execution_count": 7,
   "metadata": {},
   "outputs": [
    {
     "name": "stderr",
     "output_type": "stream",
     "text": [
      "  0%|          | 0/50 [00:00<?, ?it/s]C:\\Programs\\PythonVenv\\ml\\lib\\site-packages\\torch\\nn\\modules\\container.py:119: UserWarning: Implicit dimension choice for softmax has been deprecated. Change the call to include dim=X as an argument.\n",
      "  input = module(input)\n",
      " 94%|█████████▍| 47/50 [13:02<00:58, 19.62s/it]"
     ]
    }
   ],
   "source": [
    "plt.ion()\n",
    "\n",
    "for epoch in tqdm.tqdm(range(epoches)):\n",
    "    for x, y in train_loader:\n",
    "        convnet_optimiser.zero_grad()\n",
    "        y_ = convnet(x)\n",
    "        loss = convnet_loss_func(y_, y)\n",
    "        loss.backward()\n",
    "        convnet_optimiser.step()\n",
    "        train_loss_list.append(loss.mean().item())\n",
    "        \n",
    "        plt.subplot(1, 2, 1)\n",
    "        plt.cla()\n",
    "        plt.plot(list(range(len(train_loss_list[:-100]), len(train_loss_list))), train_loss_list[-100:], color='black', linewidth=1)\n",
    "        plt.title('train loss for last 100 cases')\n",
    "        plt.pause(0.01)\n",
    "\n",
    "    with torch.no_grad():\n",
    "        Y, Y_ = torch.tensor([]).to(device), torch.tensor([]).to(device)\n",
    "        for x, y in valid_loader:\n",
    "            y_ = convnet(x)\n",
    "            \n",
    "            Y = torch.cat((Y, y))\n",
    "            Y_ = torch.cat((Y_, y_.argmax(dim=1)))\n",
    "\n",
    "        valid_loss_list.append((Y == Y_).float().mean().item())\n",
    "\n",
    "    plt.subplot(1, 2, 2)\n",
    "    plt.cla()\n",
    "    plt.plot(list(range(len(valid_loss_list[-100:]))), valid_loss_list[-100:], color='red', linewidth=1)\n",
    "    plt.title('valid accuracy')\n",
    "    plt.pause(0.01)\n",
    "\n",
    "plt.ioff()\n",
    "plt.close()"
   ]
  },
  {
   "cell_type": "code",
   "execution_count": null,
   "metadata": {},
   "outputs": [
    {
     "data": {
      "text/plain": [
       "Text(0.5, 1.0, 'train loss')"
      ]
     },
     "execution_count": 12,
     "metadata": {},
     "output_type": "execute_result"
    },
    {
     "data": {
      "image/png": "[encoded data removed]",
      "text/plain": [
       "<Figure size 432x288 with 1 Axes>"
      ]
     },
     "metadata": {
      "needs_background": "light"
     },
     "output_type": "display_data"
    }
   ],
   "source": [
    "%matplotlib inline\n",
    "plt.plot(list(range(len(train_loss_list))), train_loss_list)\n",
    "plt.title('train loss')"
   ]
  },
  {
   "cell_type": "code",
   "execution_count": null,
   "metadata": {},
   "outputs": [
    {
     "data": {
      "text/plain": [
       "Text(0.5, 1.0, 'valid accuracy')"
      ]
     },
     "execution_count": 13,
     "metadata": {},
     "output_type": "execute_result"
    },
    {
     "data": {
      "image/png": "[encoded data removed]",
      "text/plain": [
       "<Figure size 432x288 with 1 Axes>"
      ]
     },
     "metadata": {
      "needs_background": "light"
     },
     "output_type": "display_data"
    }
   ],
   "source": [
    "plt.plot(list(range(len(valid_loss_list))), valid_loss_list)\n",
    "plt.title('valid accuracy')"
   ]
  },
  {
   "cell_type": "code",
   "execution_count": null,
   "metadata": {},
   "outputs": [],
   "source": [
    "del train_dataset\n",
    "del train_loader\n",
    "del valid_dataset\n",
    "del valid_loader\n",
    "torch.cuda.empty_cache()"
   ]
  },
  {
   "cell_type": "code",
   "execution_count": null,
   "metadata": {},
   "outputs": [
    {
     "name": "stdout",
     "output_type": "stream",
     "text": [
      "test accuracy\n",
      "98.89999628067017 %\n",
      "GroundTruth: tensor([7., 9., 9., 7., 5., 4., 0., 5., 4., 5.], device='cuda:0')\n",
      "Net Outuput: tensor([7., 9., 9., 7., 5., 4., 0., 5., 4., 5.], device='cuda:0')\n"
     ]
    }
   ],
   "source": [
    "Y, Y_ = torch.tensor([]).to(device), torch.tensor([]).to(device)\n",
    "for x, y in test_loader:\n",
    "    convnet_optimiser.zero_grad()\n",
    "    y_ = convnet(x)\n",
    "    Y = torch.cat((Y, y))\n",
    "    Y_ = torch.cat((Y_, y_.argmax(dim=1)))\n",
    "print('test accuracy')\n",
    "print((Y == Y_).float().mean().item() * 100, '%')\n",
    "print('GroundTruth:', Y[-10:])\n",
    "print('Net Outuput:', Y_[-10:])\n"
   ]
  },
  {
   "cell_type": "code",
   "execution_count": null,
   "metadata": {},
   "outputs": [],
   "source": [
    "with open('cnn_log.pkl', 'wb') as f:\n",
    "    pickle.dump((train_loss_list, valid_loss_list), f)"
   ]
  }
 ],
 "metadata": {
  "interpreter": {
   "hash": "508da0ec7a6979153cc91b479c1635c7fccfc03ba219b3d02fb5469fb5876130"
  },
  "kernelspec": {
   "display_name": "Python 3.9.1 64-bit ('ml': virtualenv)",
   "name": "python3"
  },
  "language_info": {
   "codemirror_mode": {
    "name": "ipython",
    "version": 3
   },
   "file_extension": ".py",
   "mimetype": "text/x-python",
   "name": "python",
   "nbconvert_exporter": "python",
   "pygments_lexer": "ipython3",
   "version": "3.9.1"
  },
  "orig_nbformat": 4
 },
 "nbformat": 4,
 "nbformat_minor": 2
}

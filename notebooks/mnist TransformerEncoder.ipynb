{
 "cells": [
  {
   "cell_type": "code",
   "execution_count": 13,
   "metadata": {},
   "outputs": [],
   "source": [
    "import tqdm\n",
    "import torch\n",
    "import torchvision\n",
    "import numpy as np\n",
    "import pickle\n",
    "import random\n",
    "import cv2\n",
    "from PIL import Image\n",
    "import matplotlib.pyplot as plt"
   ]
  },
  {
   "cell_type": "code",
   "execution_count": 2,
   "metadata": {},
   "outputs": [],
   "source": [
    "def setup_seed(seed):\n",
    "    torch.manual_seed(seed)\n",
    "    torch.cuda.manual_seed_all(seed)\n",
    "    np.random.seed(seed)\n",
    "    random.seed(seed)\n",
    "    torch.backends.cudnn.deterministic = True\n",
    "setup_seed(56274635)"
   ]
  },
  {
   "cell_type": "code",
   "execution_count": 3,
   "metadata": {},
   "outputs": [],
   "source": [
    "epoches = 20\n",
    "batch_size = 64\n",
    "lr = 0.00001\n",
    "device = torch.device(\"cuda\" if torch.cuda.is_available() else \"cpu\")"
   ]
  },
  {
   "cell_type": "code",
   "execution_count": 68,
   "metadata": {},
   "outputs": [],
   "source": [
    "class Binarify(torch.nn.Module):\n",
    "    def __init__(self, threshold=0.5):\n",
    "        super(Binarify, self).__init__()\n",
    "        self.threshold = threshold\n",
    "    \n",
    "    def forward(self, img):\n",
    "        return Image.fromarray(cv2.threshold(np.asarray(img)/255, self.threshold, 1, cv2.THRESH_BINARY)[1])"
   ]
  },
  {
   "cell_type": "code",
   "execution_count": 69,
   "metadata": {},
   "outputs": [],
   "source": [
    "mnist_path = 'C:\\MyWorks\\Git Repository\\Remote Repo\\cnn\\mnist.pkl'\n",
    "dataset = pickle.load(open(mnist_path,'rb'),encoding='iso-8859-1')\n",
    "\n",
    "class MNISTDataset(torch.utils.data.Dataset):\n",
    "    def __init__(self, data: tuple):\n",
    "        self.x_raw, self.y_raw = data\n",
    "        self.x_raw = torch.from_numpy(self.x_raw).to(device)\n",
    "        self.y_raw = torch.from_numpy(self.y_raw).to(device)\n",
    "        self.transforms = torchvision.transforms.Compose([\n",
    "            torchvision.transforms.ToPILImage(),\n",
    "            Binarify(threshold=0.5),\n",
    "            torchvision.transforms.Resize((32, 32)),\n",
    "            torchvision.transforms.ToTensor()\n",
    "        ])\n",
    "\n",
    "    def __len__(self):\n",
    "        return len(self.x_raw)\n",
    "\n",
    "    def __getitem__(self, idx):\n",
    "        im = self.transforms(self.x_raw[idx].reshape((1, 28, 28)))\n",
    "        nonzero_idx_1 = torch.nonzero(im.squeeze().sum(dim=-2)>1)\n",
    "        shift_1 = 16 - (nonzero_idx_1.max() + nonzero_idx_1.min()).item() // 2\n",
    "        nonzero_idx_2 = torch.nonzero(im.squeeze().sum(dim=-1)>1)\n",
    "        shift_2 = 16 - (nonzero_idx_2.max() + nonzero_idx_2.min()).item() // 2\n",
    "        im = torch.roll(input=im, shifts=(shift_2, shift_1), dims=(-2, -1))\n",
    "        im = im.reshape((1, 32, 32))\n",
    "        return im.to(device), self.y_raw[idx]\n",
    "\n",
    "\n",
    "train_dataset = MNISTDataset(data=dataset[0])\n",
    "valid_dataset = MNISTDataset(data=dataset[1])\n",
    "test_dataset = MNISTDataset(data=dataset[2])\n",
    "\n",
    "train_loader = torch.utils.data.DataLoader(dataset=train_dataset, batch_size=batch_size, shuffle=True, num_workers=0)\n",
    "valid_loader = torch.utils.data.DataLoader(dataset=valid_dataset, batch_size=batch_size, shuffle=True, num_workers=0)\n",
    "test_loader = torch.utils.data.DataLoader(dataset=test_dataset, batch_size=batch_size, shuffle=True, num_workers=0)\n"
   ]
  },
  {
   "cell_type": "code",
   "execution_count": 5,
   "metadata": {},
   "outputs": [],
   "source": [
    "class Transpose(torch.nn.Module):\n",
    "    def __init__(self, dim0:int, dim1:int) -> None:\n",
    "        super().__init__()\n",
    "        self.dim0 = dim0\n",
    "        self.dim1 = dim1\n",
    "\n",
    "    def forward(self, x:torch.Tensor):\n",
    "        return x.transpose(dim0=self.dim0, dim1=self.dim1)\n",
    "\n",
    "class VitNet(torch.nn.Module):\n",
    "    def __init__(self):\n",
    "        super(VitNet, self).__init__()\n",
    "        self.cls_token = torch.nn.Parameter(torch.zeros(1, 1, 32))\n",
    "        self.positional_embedding = torch.nn.Parameter(torch.zeros(1, 65, 32))\n",
    "        self.Embedding = torch.nn.Sequential(*[\n",
    "            # ViT-like Embedding\n",
    "            # (1, 32, 32)\n",
    "            torch.nn.Conv2d(in_channels=1, out_channels=32, kernel_size=4, stride=4), \n",
    "            # (32, 8, 8)\n",
    "            torch.nn.Flatten(start_dim=-2, end_dim=-1),\n",
    "            # (32, 64)\n",
    "            Transpose(-1, -2),\n",
    "            # (64, 32)\n",
    "        ])\n",
    "\n",
    "        self.TransformerEncoder = torch.nn.TransformerEncoder(\n",
    "            encoder_layer=torch.nn.TransformerEncoderLayer(\n",
    "                d_model=32, \n",
    "                nhead=4\n",
    "            ), \n",
    "            num_layers=12, \n",
    "            norm=torch.nn.LayerNorm(normalized_shape=32)\n",
    "        )\n",
    "        self.Output = torch.nn.Sequential(*[\n",
    "            torch.nn.Flatten(start_dim=1, end_dim=-1),\n",
    "            torch.nn.Linear(in_features=32, out_features=64),\n",
    "            torch.nn.GELU(),\n",
    "            torch.nn.Linear(in_features=64, out_features=10),\n",
    "            torch.nn.Softmax(dim=-1),\n",
    "        ])\n",
    "        \n",
    "\n",
    "    def forward(self, x:torch.Tensor):\n",
    "        batch_num = x.shape[0]\n",
    "        # (1, 32, 32)\n",
    "        x = self.Embedding(x)\n",
    "        # (64, 32)\n",
    "        cls_token = self.cls_token.expand(batch_num, 1, 32)\n",
    "        x = torch.cat((cls_token,x), dim=1)\n",
    "\n",
    "        # (65, 32)\n",
    "        x += self.positional_embedding\n",
    "\n",
    "        # (65, 32)\n",
    "        x = self.TransformerEncoder(x)\n",
    "\n",
    "        # (65, 32)\n",
    "        cls_token_final = x[:, 0, :]\n",
    "\n",
    "        x = self.Output(cls_token_final)\n",
    "        return self.sequence(x)\n",
    "\n",
    "\n",
    "\n",
    "\n",
    "vitNet = VitNet().to(device)\n",
    "vitNet_optimiser = torch.optim.Adam(vitNet.parameters(), lr=lr)\n",
    "vitNet_loss_func = torch.nn.CrossEntropyLoss()\n",
    "\n",
    "train_loss_list = []\n",
    "valid_loss_list = []"
   ]
  },
  {
   "cell_type": "code",
   "execution_count": 6,
   "metadata": {},
   "outputs": [
    {
     "name": "stdout",
     "output_type": "stream",
     "text": [
      "Using matplotlib backend: TkAgg\n"
     ]
    },
    {
     "name": "stderr",
     "output_type": "stream",
     "text": [
      "  0%|          | 0/20 [00:00<?, ?it/s]"
     ]
    }
   ],
   "source": [
    "%matplotlib auto\n",
    "plt.ion()\n",
    "\n",
    "for epoch in tqdm.tqdm(range(epoches)):\n",
    "    for x, y in train_loader:\n",
    "        vitNet.train()\n",
    "        vitNet_optimiser.zero_grad()\n",
    "        y_ = vitNet(x)\n",
    "        loss = vitNet_loss_func(y_, y)\n",
    "        loss.backward()\n",
    "        vitNet_optimiser.step()\n",
    "        train_loss_list.append(loss.mean().item())\n",
    "        \n",
    "        plt.subplot(1, 2, 1)\n",
    "        plt.cla()\n",
    "        plt.plot(list(range(len(train_loss_list[:-100]), len(train_loss_list))), train_loss_list[-100:], color='black', linewidth=1)\n",
    "        plt.title('train loss for last 100 cases')\n",
    "        plt.pause(0.01)\n",
    "\n",
    "    with torch.no_grad():\n",
    "        vitNet.eval()\n",
    "        Y, Y_ = torch.tensor([]).to(device), torch.tensor([]).to(device)\n",
    "        for x, y in valid_loader:\n",
    "            y_ = vitNet(x)\n",
    "            \n",
    "            Y = torch.cat((Y, y))\n",
    "            Y_ = torch.cat((Y_, y_.argmax(dim=1)))\n",
    "\n",
    "        valid_loss_list.append((Y == Y_).float().mean().item())\n",
    "    \n",
    "    \n",
    "\n",
    "    plt.subplot(1, 2, 2)\n",
    "    plt.cla()\n",
    "    plt.plot(list(range(len(valid_loss_list[-100:]))), valid_loss_list[-100:], color='red', linewidth=1)\n",
    "    plt.text(len(valid_loss_list[-100:]), valid_loss_list[-1], str(valid_loss_list[-1]*100))\n",
    "    plt.title('valid accuracy')\n",
    "    plt.pause(0.01)\n",
    "    torch.save(vitNet.state_dict(), 'vitNet e%d at %.2f.pt' % (epoch, valid_loss_list[-1]*100))\n",
    "\n",
    "plt.ioff()\n",
    "plt.close()"
   ]
  },
  {
   "cell_type": "code",
   "execution_count": null,
   "metadata": {},
   "outputs": [],
   "source": [
    "%matplotlib inline"
   ]
  },
  {
   "cell_type": "code",
   "execution_count": null,
   "metadata": {},
   "outputs": [],
   "source": [
    "plt.plot(list(range(len(train_loss_list))), train_loss_list)\n",
    "plt.title('train loss')\n",
    "plt.plot(list(range(len(valid_loss_list))), valid_loss_list)\n",
    "plt.title('valid accuracy')"
   ]
  },
  {
   "cell_type": "code",
   "execution_count": null,
   "metadata": {},
   "outputs": [],
   "source": [
    "del train_dataset\n",
    "del train_loader\n",
    "del valid_dataset\n",
    "del valid_loader\n",
    "torch.cuda.empty_cache()"
   ]
  },
  {
   "cell_type": "code",
   "execution_count": null,
   "metadata": {},
   "outputs": [],
   "source": [
    "for x, y in test_loader:\n",
    "    vitNet.zero_grad()\n",
    "    vitNet.eval()\n",
    "    y_ = vitNet(x)\n",
    "    Y = torch.cat((Y, y))\n",
    "    Y_ = torch.cat((Y_, y_.argmax(dim=1)))\n",
    "print('test accuracy')\n",
    "print((Y == Y_).float().mean().item() * 100, '%')\n",
    "print('GroundTruth:', Y[-10:])\n",
    "print('Net Outuput:', Y_[-10:])\n"
   ]
  },
  {
   "cell_type": "code",
   "execution_count": null,
   "metadata": {},
   "outputs": [],
   "source": [
    "with open('vit_log.pkl', 'wb') as f:\n",
    "    pickle.dump((train_loss_list, valid_loss_list), f)"
   ]
  }
 ],
 "metadata": {
  "interpreter": {
   "hash": "508da0ec7a6979153cc91b479c1635c7fccfc03ba219b3d02fb5469fb5876130"
  },
  "kernelspec": {
   "display_name": "Python 3.9.1 64-bit ('ml': virtualenv)",
   "name": "python3"
  },
  "language_info": {
   "codemirror_mode": {
    "name": "ipython",
    "version": 3
   },
   "file_extension": ".py",
   "mimetype": "text/x-python",
   "name": "python",
   "nbconvert_exporter": "python",
   "pygments_lexer": "ipython3",
   "version": "3.9.1"
  },
  "orig_nbformat": 4
 },
 "nbformat": 4,
 "nbformat_minor": 2
}

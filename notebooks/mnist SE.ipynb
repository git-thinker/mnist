{
 "cells": [
  {
   "cell_type": "code",
   "execution_count": 1,
   "metadata": {},
   "outputs": [],
   "source": [
    "import tqdm\n",
    "import torch\n",
    "import numpy as np\n",
    "import pickle\n",
    "import random\n",
    "import matplotlib.pyplot as plt"
   ]
  },
  {
   "cell_type": "code",
   "execution_count": 2,
   "metadata": {},
   "outputs": [],
   "source": [
    "def setup_seed(seed):\n",
    "    torch.manual_seed(seed)\n",
    "    torch.cuda.manual_seed_all(seed)\n",
    "    np.random.seed(seed)\n",
    "    random.seed(seed)\n",
    "    torch.backends.cudnn.deterministic = True\n",
    "setup_seed(56274635)"
   ]
  },
  {
   "cell_type": "code",
   "execution_count": 3,
   "metadata": {},
   "outputs": [],
   "source": [
    "epoches = 50\n",
    "batch_size = 512\n",
    "lr = 0.0001\n",
    "device = torch.device(\"cuda\" if torch.cuda.is_available() else \"cpu\")"
   ]
  },
  {
   "cell_type": "code",
   "execution_count": 4,
   "metadata": {},
   "outputs": [
    {
     "ename": "RuntimeError",
     "evalue": "CUDA error: out of memory",
     "output_type": "error",
     "traceback": [
      "\u001b[1;31m---------------------------------------------------------------------------\u001b[0m",
      "\u001b[1;31mRuntimeError\u001b[0m                              Traceback (most recent call last)",
      "\u001b[1;32m<ipython-input-4-632b0ae60256>\u001b[0m in \u001b[0;36m<module>\u001b[1;34m\u001b[0m\n\u001b[0;32m     16\u001b[0m \u001b[1;33m\u001b[0m\u001b[0m\n\u001b[0;32m     17\u001b[0m \u001b[1;33m\u001b[0m\u001b[0m\n\u001b[1;32m---> 18\u001b[1;33m \u001b[0mtrain_dataset\u001b[0m \u001b[1;33m=\u001b[0m \u001b[0mMNISTDataset\u001b[0m\u001b[1;33m(\u001b[0m\u001b[0mdata\u001b[0m\u001b[1;33m=\u001b[0m\u001b[0mdataset\u001b[0m\u001b[1;33m[\u001b[0m\u001b[1;36m0\u001b[0m\u001b[1;33m]\u001b[0m\u001b[1;33m)\u001b[0m\u001b[1;33m\u001b[0m\u001b[1;33m\u001b[0m\u001b[0m\n\u001b[0m\u001b[0;32m     19\u001b[0m \u001b[0mvalid_dataset\u001b[0m \u001b[1;33m=\u001b[0m \u001b[0mMNISTDataset\u001b[0m\u001b[1;33m(\u001b[0m\u001b[0mdata\u001b[0m\u001b[1;33m=\u001b[0m\u001b[0mdataset\u001b[0m\u001b[1;33m[\u001b[0m\u001b[1;36m1\u001b[0m\u001b[1;33m]\u001b[0m\u001b[1;33m)\u001b[0m\u001b[1;33m\u001b[0m\u001b[1;33m\u001b[0m\u001b[0m\n\u001b[0;32m     20\u001b[0m \u001b[0mtest_dataset\u001b[0m \u001b[1;33m=\u001b[0m \u001b[0mMNISTDataset\u001b[0m\u001b[1;33m(\u001b[0m\u001b[0mdata\u001b[0m\u001b[1;33m=\u001b[0m\u001b[0mdataset\u001b[0m\u001b[1;33m[\u001b[0m\u001b[1;36m2\u001b[0m\u001b[1;33m]\u001b[0m\u001b[1;33m)\u001b[0m\u001b[1;33m\u001b[0m\u001b[1;33m\u001b[0m\u001b[0m\n",
      "\u001b[1;32m<ipython-input-4-632b0ae60256>\u001b[0m in \u001b[0;36m__init__\u001b[1;34m(self, data)\u001b[0m\n\u001b[0;32m      5\u001b[0m     \u001b[1;32mdef\u001b[0m \u001b[0m__init__\u001b[0m\u001b[1;33m(\u001b[0m\u001b[0mself\u001b[0m\u001b[1;33m,\u001b[0m \u001b[0mdata\u001b[0m\u001b[1;33m:\u001b[0m \u001b[0mtuple\u001b[0m\u001b[1;33m)\u001b[0m\u001b[1;33m:\u001b[0m\u001b[1;33m\u001b[0m\u001b[1;33m\u001b[0m\u001b[0m\n\u001b[0;32m      6\u001b[0m         \u001b[0mself\u001b[0m\u001b[1;33m.\u001b[0m\u001b[0mx_raw\u001b[0m\u001b[1;33m,\u001b[0m \u001b[0mself\u001b[0m\u001b[1;33m.\u001b[0m\u001b[0my_raw\u001b[0m \u001b[1;33m=\u001b[0m \u001b[0mdata\u001b[0m\u001b[1;33m\u001b[0m\u001b[1;33m\u001b[0m\u001b[0m\n\u001b[1;32m----> 7\u001b[1;33m         \u001b[0mself\u001b[0m\u001b[1;33m.\u001b[0m\u001b[0mx_raw\u001b[0m \u001b[1;33m=\u001b[0m \u001b[0mtorch\u001b[0m\u001b[1;33m.\u001b[0m\u001b[0mfrom_numpy\u001b[0m\u001b[1;33m(\u001b[0m\u001b[0mself\u001b[0m\u001b[1;33m.\u001b[0m\u001b[0mx_raw\u001b[0m\u001b[1;33m)\u001b[0m\u001b[1;33m.\u001b[0m\u001b[0mto\u001b[0m\u001b[1;33m(\u001b[0m\u001b[0mdevice\u001b[0m\u001b[1;33m)\u001b[0m\u001b[1;33m\u001b[0m\u001b[1;33m\u001b[0m\u001b[0m\n\u001b[0m\u001b[0;32m      8\u001b[0m         \u001b[0mself\u001b[0m\u001b[1;33m.\u001b[0m\u001b[0my_raw\u001b[0m \u001b[1;33m=\u001b[0m \u001b[0mtorch\u001b[0m\u001b[1;33m.\u001b[0m\u001b[0mfrom_numpy\u001b[0m\u001b[1;33m(\u001b[0m\u001b[0mself\u001b[0m\u001b[1;33m.\u001b[0m\u001b[0my_raw\u001b[0m\u001b[1;33m)\u001b[0m\u001b[1;33m.\u001b[0m\u001b[0mto\u001b[0m\u001b[1;33m(\u001b[0m\u001b[0mdevice\u001b[0m\u001b[1;33m)\u001b[0m\u001b[1;33m\u001b[0m\u001b[1;33m\u001b[0m\u001b[0m\n\u001b[0;32m      9\u001b[0m \u001b[1;33m\u001b[0m\u001b[0m\n",
      "\u001b[1;31mRuntimeError\u001b[0m: CUDA error: out of memory"
     ]
    }
   ],
   "source": [
    "mnist_path = 'C:\\MyWorks\\Git Repository\\Remote Repo\\cnn\\mnist.pkl'\n",
    "dataset = pickle.load(open(mnist_path,'rb'),encoding='iso-8859-1')\n",
    "\n",
    "class MNISTDataset(torch.utils.data.Dataset):\n",
    "    def __init__(self, data: tuple):\n",
    "        self.x_raw, self.y_raw = data\n",
    "        self.x_raw = torch.from_numpy(self.x_raw).to(device)\n",
    "        self.y_raw = torch.from_numpy(self.y_raw).to(device)\n",
    "\n",
    "    def __len__(self):\n",
    "        return len(self.x_raw)\n",
    "\n",
    "    def __getitem__(self, idx):\n",
    "        # return self.x_raw[idx].reshape((1, 28, 28)), torch.eye(10)[self.y_raw[idx]]\n",
    "        return self.x_raw[idx].reshape((1, 28, 28)), self.y_raw[idx]\n",
    "\n",
    "\n",
    "train_dataset = MNISTDataset(data=dataset[0])\n",
    "valid_dataset = MNISTDataset(data=dataset[1])\n",
    "test_dataset = MNISTDataset(data=dataset[2])\n",
    "\n",
    "train_loader = torch.utils.data.DataLoader(dataset=train_dataset, batch_size=batch_size, shuffle=True, num_workers=0)\n",
    "valid_loader = torch.utils.data.DataLoader(dataset=valid_dataset, batch_size=batch_size, shuffle=True, num_workers=0)\n",
    "test_loader = torch.utils.data.DataLoader(dataset=test_dataset, batch_size=batch_size, shuffle=True, num_workers=0)\n"
   ]
  },
  {
   "cell_type": "code",
   "execution_count": null,
   "metadata": {},
   "outputs": [],
   "source": [
    "class SEBlock(torch.nn.Module):\n",
    "    def __init__(self, in_channels, ratio=1):\n",
    "        super(SEBlock, self).__init__()\n",
    "        self.squeeze = torch.nn.AdaptiveAvgPool2d(output_size=(1, 1))\n",
    "        self.compress = torch.nn.Conv2d(in_channels=in_channels, out_channels=in_channels//ratio, kernel_size=1, stride=1, padding=0)\n",
    "        self.excitation = torch.nn.Conv2d(in_channels=in_channels//ratio, out_channels=in_channels, kernel_size=1, stride=1, padding=0)\n",
    "\n",
    "        self.Squence = torch.nn.Sequential(\n",
    "            self.squeeze,\n",
    "            self.compress,\n",
    "            torch.nn.ReLU(),\n",
    "            self.excitation,\n",
    "            torch.nn.Sigmoid()\n",
    "        )\n",
    "    \n",
    "    def forward(self, x):\n",
    "        return self.Squence(x) * x"
   ]
  },
  {
   "cell_type": "code",
   "execution_count": null,
   "metadata": {},
   "outputs": [],
   "source": [
    "class ConvNet(torch.nn.Module):\n",
    "    def __init__(self):\n",
    "        super(ConvNet, self).__init__()\n",
    "        self.Sequence = torch.nn.Sequential(\n",
    "            # (1, 28, 28)\n",
    "            torch.nn.Conv2d(in_channels=1, out_channels=32, kernel_size=5, stride=1, padding=2),\n",
    "\n",
    "            # (32, 28, 28)\n",
    "            torch.nn.MaxPool2d(kernel_size=2, stride=2),\n",
    "\n",
    "            # (32, 14, 14)\n",
    "            torch.nn.ReLU(),\n",
    "\n",
    "            # (32, 14, 14)\n",
    "            SEBlock(in_channels=32, ratio=4),\n",
    "\n",
    "            # (32, 14, 14)\n",
    "            torch.nn.Conv2d(in_channels=32, out_channels=64, kernel_size=5, stride=1, padding=2),\n",
    "\n",
    "            # (64, 14, 14)\n",
    "            torch.nn.MaxPool2d(kernel_size=2, stride=2),\n",
    "\n",
    "            # (64, 7, 7)\n",
    "            torch.nn.ReLU(),\n",
    "\n",
    "            # (64, 7, 7)\n",
    "            SEBlock(in_channels=64, ratio=8),\n",
    "\n",
    "            # (64, 7, 7)\n",
    "            torch.nn.Flatten(start_dim=1),\n",
    "\n",
    "            # (64 * 7 * 7 = 3136)\n",
    "            torch.nn.Linear(in_features=3136, out_features=1024),\n",
    "\n",
    "            # (1024, )\n",
    "            torch.nn.ReLU(),\n",
    "\n",
    "            # (1024, )\n",
    "            torch.nn.Linear(in_features=1024, out_features=10),\n",
    "\n",
    "            # (10, )\n",
    "            torch.nn.Softmax(),\n",
    "        )\n",
    "        \n",
    "\n",
    "    def forward(self, x):\n",
    "        return self.Sequence(x)\n",
    "\n",
    "convnet = ConvNet().to(device)\n",
    "convnet_optimiser = torch.optim.Adam(convnet.parameters(), lr=lr)\n",
    "convnet_loss_func = torch.nn.CrossEntropyLoss()\n",
    "\n",
    "train_loss_list = []\n",
    "valid_loss_list = []"
   ]
  },
  {
   "cell_type": "code",
   "execution_count": null,
   "metadata": {},
   "outputs": [
    {
     "name": "stderr",
     "output_type": "stream",
     "text": [
      "  0%|          | 0/50 [00:00<?, ?it/s]"
     ]
    },
    {
     "name": "stdout",
     "output_type": "stream",
     "text": [
      "Using matplotlib backend: TkAgg\n"
     ]
    },
    {
     "name": "stderr",
     "output_type": "stream",
     "text": [
      "C:\\Programs\\PythonVenv\\ml\\lib\\site-packages\\torch\\nn\\modules\\container.py:119: UserWarning: Implicit dimension choice for softmax has been deprecated. Change the call to include dim=X as an argument.\n",
      "  input = module(input)\n"
     ]
    }
   ],
   "source": [
    "%matplotlib auto\n",
    "plt.ion()\n",
    "\n",
    "for epoch in tqdm.tqdm(range(epoches)):\n",
    "    for x, y in train_loader:\n",
    "        convnet_optimiser.zero_grad()\n",
    "        y_ = convnet(x)\n",
    "        loss = convnet_loss_func(y_, y)\n",
    "        loss.backward()\n",
    "        convnet_optimiser.step()\n",
    "        train_loss_list.append(loss.mean().item())\n",
    "        \n",
    "        plt.subplot(1, 2, 1)\n",
    "        plt.cla()\n",
    "        plt.plot(list(range(len(train_loss_list[:-100]), len(train_loss_list))), train_loss_list[-100:], color='black', linewidth=1)\n",
    "        plt.title('train loss for last 100 cases')\n",
    "        plt.pause(0.01)\n",
    "\n",
    "    with torch.no_grad():\n",
    "        Y, Y_ = torch.tensor([]).to(device), torch.tensor([]).to(device)\n",
    "        for x, y in valid_loader:\n",
    "            y_ = convnet(x)\n",
    "            \n",
    "            Y = torch.cat((Y, y))\n",
    "            Y_ = torch.cat((Y_, y_.argmax(dim=1)))\n",
    "\n",
    "        valid_loss_list.append((Y == Y_).float().mean().item())\n",
    "\n",
    "    plt.subplot(1, 2, 2)\n",
    "    plt.cla()\n",
    "    plt.plot(list(range(len(valid_loss_list[-100:]))), valid_loss_list[-100:], color='red', linewidth=1)\n",
    "    plt.title('valid accuracy')\n",
    "    plt.pause(0.01)\n",
    "\n",
    "plt.ioff()\n",
    "plt.close()"
   ]
  },
  {
   "cell_type": "code",
   "execution_count": null,
   "metadata": {},
   "outputs": [],
   "source": [
    "%matplotlib inline"
   ]
  },
  {
   "cell_type": "code",
   "execution_count": null,
   "metadata": {},
   "outputs": [
    {
     "data": {
      "text/plain": [
       "Text(0.5, 1.0, 'train loss')"
      ]
     },
     "execution_count": 9,
     "metadata": {},
     "output_type": "execute_result"
    },
    {
     "data": {
      "image/png": "[encoded data removed]",
      "text/plain": [
       "<Figure size 432x288 with 1 Axes>"
      ]
     },
     "metadata": {
      "needs_background": "light"
     },
     "output_type": "display_data"
    }
   ],
   "source": [
    "plt.plot(list(range(len(train_loss_list))), train_loss_list)\n",
    "plt.title('train loss')"
   ]
  },
  {
   "cell_type": "code",
   "execution_count": null,
   "metadata": {},
   "outputs": [
    {
     "data": {
      "text/plain": [
       "Text(0.5, 1.0, 'valid accuracy')"
      ]
     },
     "execution_count": 10,
     "metadata": {},
     "output_type": "execute_result"
    },
    {
     "data": {
      "image/png": "[encoded data removed]",
      "text/plain": [
       "<Figure size 432x288 with 1 Axes>"
      ]
     },
     "metadata": {
      "needs_background": "light"
     },
     "output_type": "display_data"
    }
   ],
   "source": [
    "plt.plot(list(range(len(valid_loss_list))), valid_loss_list)\n",
    "plt.title('valid accuracy')"
   ]
  },
  {
   "cell_type": "code",
   "execution_count": null,
   "metadata": {},
   "outputs": [],
   "source": [
    "del train_dataset\n",
    "del train_loader\n",
    "del valid_dataset\n",
    "del valid_loader\n",
    "torch.cuda.empty_cache()"
   ]
  },
  {
   "cell_type": "code",
   "execution_count": null,
   "metadata": {},
   "outputs": [
    {
     "name": "stdout",
     "output_type": "stream",
     "text": [
      "test accuracy\n",
      "98.82999658584595 %\n",
      "GroundTruth: tensor([1., 6., 9., 4., 1., 2., 1., 7., 7., 2.], device='cuda:0')\n",
      "Net Outuput: tensor([1., 6., 9., 4., 1., 2., 1., 7., 7., 2.], device='cuda:0')\n"
     ]
    }
   ],
   "source": [
    "for x, y in test_loader:\n",
    "    convnet_optimiser.zero_grad()\n",
    "    y_ = convnet(x)\n",
    "    Y = torch.cat((Y, y))\n",
    "    Y_ = torch.cat((Y_, y_.argmax(dim=1)))\n",
    "print('test accuracy')\n",
    "print((Y == Y_).float().mean().item() * 100, '%')\n",
    "print('GroundTruth:', Y[-10:])\n",
    "print('Net Outuput:', Y_[-10:])\n"
   ]
  },
  {
   "cell_type": "code",
   "execution_count": null,
   "metadata": {},
   "outputs": [],
   "source": [
    "with open('se_log.pkl', 'wb') as f:\n",
    "    pickle.dump((train_loss_list, valid_loss_list), f)"
   ]
  }
 ],
 "metadata": {
  "interpreter": {
   "hash": "508da0ec7a6979153cc91b479c1635c7fccfc03ba219b3d02fb5469fb5876130"
  },
  "kernelspec": {
   "display_name": "Python 3.9.1 64-bit ('ml': virtualenv)",
   "name": "python3"
  },
  "language_info": {
   "codemirror_mode": {
    "name": "ipython",
    "version": 3
   },
   "file_extension": ".py",
   "mimetype": "text/x-python",
   "name": "python",
   "nbconvert_exporter": "python",
   "pygments_lexer": "ipython3",
   "version": "3.9.1"
  },
  "orig_nbformat": 4
 },
 "nbformat": 4,
 "nbformat_minor": 2
}
